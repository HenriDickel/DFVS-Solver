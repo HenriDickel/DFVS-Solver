{
 "cells": [
  {
   "cell_type": "code",
   "execution_count": 4,
   "metadata": {},
   "outputs": [],
   "source": [
    "import networkx as nx\n",
    "import matplotlib.pyplot as plt\n",
    "from networkx.drawing.nx_pydot import write_dot\n",
    "from os import walk\n",
    "\n",
    "def createGraphFromFile(fileName, Graph):\n",
    "    file = open(fileName, \"r\")\n",
    "    Lines = file.readlines()\n",
    "\n",
    "    for i in range(1,len(Lines)):\n",
    "        Split = Lines[i].strip().split(\" \")\n",
    "        for j in Split:\n",
    "            if j != '':\n",
    "                j = int(j);\n",
    "                Graph.add_edge(i, j)\n",
    "            else:\n",
    "                Graph.add_node(i)\n",
    "\n"
   ]
  },
  {
   "cell_type": "code",
   "execution_count": 5,
   "metadata": {},
   "outputs": [],
   "source": [
    "def createVizFile(file):\n",
    "    G = nx.DiGraph()\n",
    "    createGraphFromFile(\"GraphVizInputs/\" + file, G)\n",
    "    toDlt =set()\n",
    "    \n",
    "    while True:\n",
    "        for g in G.nodes:\n",
    "            if G.in_degree(g) == 0 or G.out_degree(g) == 0:\n",
    "                toDlt.add(g) \n",
    "        \n",
    "        for i in toDlt:\n",
    "            G.remove_node(i)\n",
    "        \n",
    "        if len(toDlt) == 0:\n",
    "            break\n",
    "        \n",
    "        toDlt.clear()\n",
    "        \n",
    "    pos = nx.nx_pydot.graphviz_layout(G)\n",
    "    plt.rcParams[\"figure.figsize\"] = (50,50)\n",
    "    plt.title(file, fontsize=40)\n",
    "    nx.draw(G, pos = pos, with_labels=True)\n",
    "    plt.savefig(\"GraphVizOutputs/\" + file +'.png') \n",
    "    plt.clf()"
   ]
  },
  {
   "cell_type": "code",
   "execution_count": 6,
   "metadata": {},
   "outputs": [
    {
     "data": {
      "text/plain": [
       "<Figure size 3600x3600 with 0 Axes>"
      ]
     },
     "metadata": {},
     "output_type": "display_data"
    }
   ],
   "source": [
    "if __name__ == '__main__':\n",
    "    \n",
    "    #Get all files\n",
    "    filenames = next(walk(\"GraphVizInputs\"), (None, None, []))[2]\n",
    "\n",
    "    #Execute for each\n",
    "    for filename in filenames:\n",
    "        createVizFile(filename)\n",
    "   \n",
    "    "
   ]
  },
  {
   "cell_type": "code",
   "execution_count": null,
   "metadata": {},
   "outputs": [],
   "source": []
  }
 ],
 "metadata": {
  "kernelspec": {
   "display_name": "Python 3",
   "language": "python",
   "name": "python3"
  },
  "language_info": {
   "codemirror_mode": {
    "name": "ipython",
    "version": 3
   },
   "file_extension": ".py",
   "mimetype": "text/x-python",
   "name": "python",
   "nbconvert_exporter": "python",
   "pygments_lexer": "ipython3",
   "version": "3.10.4"
  }
 },
 "nbformat": 4,
 "nbformat_minor": 4
}
