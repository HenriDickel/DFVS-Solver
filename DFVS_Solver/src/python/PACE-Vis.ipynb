{
 "cells": [
  {
   "cell_type": "markdown",
   "metadata": {
    "pycharm": {
     "name": "#%% md\n"
    }
   },
   "source": [
    "# Imports"
   ]
  },
  {
   "cell_type": "code",
   "execution_count": 1,
   "outputs": [],
   "source": [
    "import networkx as nx\n",
    "import matplotlib.pyplot as plt\n",
    "from networkx.drawing.nx_pydot import write_dot\n",
    "from os import walk"
   ],
   "metadata": {
    "collapsed": false,
    "pycharm": {
     "name": "#%%\n"
    }
   }
  },
  {
   "cell_type": "markdown",
   "source": [
    "# Functions"
   ],
   "metadata": {
    "collapsed": false,
    "pycharm": {
     "name": "#%% md\n"
    }
   }
  },
  {
   "cell_type": "code",
   "execution_count": 3,
   "outputs": [],
   "source": [
    "def createGraphFromFile(fileName, Graph):\n",
    "    file = open(fileName, \"r\")\n",
    "    Lines = file.readlines()\n",
    "\n",
    "    for i in range(1,len(Lines)):\n",
    "        Split = Lines[i].strip().split(\" \")\n",
    "        for j in Split:\n",
    "            if j != '':\n",
    "                j = int(j)\n",
    "                Graph.add_edge(i, j)\n",
    "            else:\n",
    "                Graph.add_node(i, color='red', fillcolor='red')\n",
    "\n",
    "\n",
    "def createVizFile(file):\n",
    "    G = nx.DiGraph()\n",
    "    createGraphFromFile(\"GraphVizInputs/\" + file, G)\n",
    "    toDlt =set()\n",
    "    \n",
    "    while True:\n",
    "        for g in G.nodes:\n",
    "            if G.in_degree(g) == 0 or G.out_degree(g) == 0:\n",
    "                toDlt.add(g) \n",
    "        \n",
    "        for i in toDlt:\n",
    "            G.remove_node(i)\n",
    "        \n",
    "        if len(toDlt) == 0:\n",
    "            break\n",
    "        \n",
    "        toDlt.clear()\n",
    "        \n",
    "    pos = nx.nx_pydot.graphviz_layout(G)\n",
    "    plt.rcParams[\"figure.figsize\"] = (50,50)\n",
    "    plt.title(file, fontsize=40)\n",
    "    nx.draw(G, pos = pos, with_labels=True)\n",
    "    plt.savefig(\"GraphVizOutputs/\" + file +'.png') \n",
    "    plt.clf()\n"
   ],
   "metadata": {
    "collapsed": false,
    "pycharm": {
     "name": "#%%\n"
    }
   }
  },
  {
   "cell_type": "markdown",
   "source": [
    "# Main"
   ],
   "metadata": {
    "collapsed": false
   }
  },
  {
   "cell_type": "code",
   "metadata": {
    "pycharm": {
     "name": "#%%\n"
    }
   },
   "source": [
    "#Get all files\n",
    "filenames = next(walk(\"GraphVizInputs\"), (None, None, []))[2]\n",
    "\n",
    "#Execute for each\n",
    "for filename in filenames:\n",
    "    createVizFile(filename)"
   ],
   "execution_count": 4,
   "outputs": [
    {
     "data": {
      "text/plain": "<Figure size 3600x3600 with 0 Axes>"
     },
     "metadata": {},
     "output_type": "display_data"
    }
   ]
  },
  {
   "cell_type": "markdown",
   "metadata": {
    "pycharm": {
     "name": "#%% md\n"
    }
   },
   "source": []
  }
 ],
 "metadata": {
  "kernelspec": {
   "display_name": "Python 3",
   "language": "python",
   "name": "python3"
  },
  "language_info": {
   "codemirror_mode": {
    "name": "ipython",
    "version": 3
   },
   "file_extension": ".py",
   "mimetype": "text/x-python",
   "name": "python",
   "nbconvert_exporter": "python",
   "pygments_lexer": "ipython3",
   "version": "3.10.4"
  }
 },
 "nbformat": 4,
 "nbformat_minor": 4
}