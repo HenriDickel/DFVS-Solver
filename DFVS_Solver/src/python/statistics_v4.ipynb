{
 "cells": [
  {
   "cell_type": "markdown",
   "metadata": {
    "collapsed": true,
    "pycharm": {
     "name": "#%% md\n"
    }
   },
   "source": [
    "# Imports"
   ]
  },
  {
   "cell_type": "code",
   "execution_count": 1,
   "outputs": [],
   "source": [
    "import pandas as pd\n",
    "import matplotlib.pyplot as plt\n",
    "import numpy as np"
   ],
   "metadata": {
    "collapsed": false,
    "pycharm": {
     "name": "#%%\n"
    }
   }
  },
  {
   "cell_type": "markdown",
   "source": [
    "# Define functions"
   ],
   "metadata": {
    "collapsed": false
   }
  },
  {
   "cell_type": "code",
   "execution_count": 7,
   "outputs": [],
   "source": [
    "def get_percentage_df(df):\n",
    "    df_perc = df[df['verified'] == True].groupby('millis').mean()\n",
    "    df_perc['percentage_solved'] = 0.0\n",
    "    size = df.shape[0]\n",
    "    print(\"Dataframe contains \" + str(size) + \" elements\")\n",
    "\n",
    "    for index, row in df_perc.iterrows():\n",
    "        df_solved = df[df['verified'] == True]\n",
    "        num_solved = df_solved[df_solved['millis'] <= index].shape[0]\n",
    "        percentage_solved = num_solved / df.shape[0]\n",
    "        df_perc.at[index, 'percentage_solved'] = percentage_solved\n",
    "    df_perc.at[180000, 'percentage_solved'] = df[df['verified'] == True].shape[0] / df.shape[0]\n",
    "\n",
    "    return df_perc\n",
    "\n",
    "def add_percentage_df(df_perc, df_add):\n",
    "    df_perc['percentage_solved_y'] = 0.0\n",
    "    for index, row in df_perc.iterrows():\n",
    "        df_solved = df_add[df_add['verified'] == True]\n",
    "        num_solved = df_solved[df_solved['millis'] <= index].shape[0]\n",
    "        percentage_solved = num_solved / df_add.shape[0]\n",
    "        df_perc.at[index, 'percentage_solved_y'] = percentage_solved\n",
    "    df_perc.at[180000, 'percentage_solved_y'] = df_add[df_add['verified'] == True].shape[0] / df_add.shape[0]\n",
    "    return df_perc\n",
    "\n",
    "def split_synthetic_complex(df):\n",
    "    df_synthetic = df[df['name'].str.match('synth')]\n",
    "    df_complex = df[~df['name'].str.match('synth')]\n",
    "    return df_synthetic, df_complex\n",
    "\n",
    "def print_results(name, df):\n",
    "    print(\"Results for '\" + name + \"':\")\n",
    "    df_synthetic, df_complex = split_synthetic_complex(df)\n",
    "    num_synthetic = df_synthetic.shape[0]\n",
    "    df_synthetic_solved = df_synthetic[df_synthetic['verified'] == True]\n",
    "    num_synthetic_solved = df_synthetic_solved.shape[0]\n",
    "    percentage_solved = num_synthetic_solved * 100 / num_synthetic if num_synthetic else 100\n",
    "    print(\"Synthetic: \" + str(num_synthetic_solved) + \"/\" + str(num_synthetic) + \" (\" + str(round(percentage_solved, 2)) + \"%)\")\n",
    "\n",
    "    num_complex = df_complex.shape[0]\n",
    "    df_complex_solved = df_complex[df_complex['verified'] == True]\n",
    "    num_complex_solved = df_complex_solved.shape[0]\n",
    "    percentage_solved = num_complex_solved * 100 / num_complex if num_complex else 100\n",
    "    print(\"Complex: \" + str(num_complex_solved) + \"/\" + str(num_complex) + \" (\" + str(round(percentage_solved, 2)) + \"%)\")\n",
    "\n",
    "    num_overall = df.shape[0]\n",
    "    df_solved = df[df['verified'] == True]\n",
    "    num_solved = df_solved.shape[0]\n",
    "    percentage_solved = num_solved * 100 / num_overall if num_overall else 100\n",
    "    print(\"Overall: \" + str(num_solved) + \"/\" + str(num_overall) + \" (\" + str(round(percentage_solved, 2)) + \"%)\")\n",
    "    print()"
   ],
   "metadata": {
    "collapsed": false,
    "pycharm": {
     "name": "#%%\n"
    }
   }
  },
  {
   "cell_type": "markdown",
   "source": [
    "# Load Data"
   ],
   "metadata": {
    "collapsed": false
   }
  },
  {
   "cell_type": "code",
   "execution_count": 17,
   "outputs": [],
   "source": [
    "# Create pandas dataframes from csv\n",
    "df1 = pd.read_csv(\"../logs/ILPLog-4.1_Ordering.csv\", sep=\",\", header=0)\n",
    "df2 = pd.read_csv(\"../logs/ILPLog-4.2_OrderingReductionPacking.csv\", sep=\",\", header=0)\n",
    "\n",
    "# Style plot\n",
    "plt.style.use('default')\n",
    "font = {'size' : 32}\n",
    "plt.rc('font', **font)\n",
    "params = {'mathtext.default': 'regular' }\n",
    "plt.rcParams.update(params)"
   ],
   "metadata": {
    "collapsed": false,
    "pycharm": {
     "name": "#%%\n"
    }
   }
  },
  {
   "cell_type": "markdown",
   "source": [
    "# Print results for Light BFS"
   ],
   "metadata": {
    "collapsed": false
   }
  },
  {
   "cell_type": "code",
   "execution_count": 18,
   "outputs": [
    {
     "name": "stdout",
     "output_type": "stream",
     "text": [
      "Results for 'Ordering':\n",
      "Synthetic: 174/315 (55.24%)\n",
      "Complex: 122/137 (89.05%)\n",
      "Overall: 296/452 (65.49%)\n",
      "\n",
      "Results for 'Ordering + Reduction + Packing':\n",
      "Synthetic: 229/315 (72.7%)\n",
      "Complex: 126/137 (91.97%)\n",
      "Overall: 355/452 (78.54%)\n",
      "\n"
     ]
    }
   ],
   "source": [
    "print_results('Ordering', df1)\n",
    "print_results('Ordering + Reduction + Packing', df2)\n"
   ],
   "metadata": {
    "collapsed": false,
    "pycharm": {
     "name": "#%%\n"
    }
   }
  },
  {
   "cell_type": "markdown",
   "source": [],
   "metadata": {
    "collapsed": false
   }
  }
 ],
 "metadata": {
  "kernelspec": {
   "display_name": "Python 3",
   "language": "python",
   "name": "python3"
  },
  "language_info": {
   "codemirror_mode": {
    "name": "ipython",
    "version": 2
   },
   "file_extension": ".py",
   "mimetype": "text/x-python",
   "name": "python",
   "nbconvert_exporter": "python",
   "pygments_lexer": "ipython2",
   "version": "2.7.6"
  }
 },
 "nbformat": 4,
 "nbformat_minor": 0
}